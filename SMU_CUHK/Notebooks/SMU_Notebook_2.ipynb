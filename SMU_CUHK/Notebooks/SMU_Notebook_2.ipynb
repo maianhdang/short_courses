{
 "cells": [
  {
   "cell_type": "markdown",
   "metadata": {},
   "source": [
    "# Notebook 2: Network nonparametrics\n",
    "#### Econometric Methods for Networks\n",
    "#### _Singapore Management University (SMU) May 29th to June 1st, 2017_\n",
    "##### _Bryan S. Graham, UC - Berkeley, bgraham@econ.berkeley.edu_\n",
    "<br>\n",
    "<br>\n",
    "This is the second of a series of iPython Jupyter notebooks designed to accompany a series of instructional lectures given at the Singapore Management University (SMU) from May 29th to June 1st, 2017. The scripts below were written for Python 2.7.12. The Anaconda distribution of Python, available at https://www.continuum.io/downloads, comes bundled with most the scientific computing packages used in these notebooks.\n",
    "<br>\n",
    "<br>\n",
    "For more information about the course please visit my webpage at http://bryangraham.github.io/econometrics/.\n",
    "<br>\n",
    "<br>\n",
    "In this notebook I illustrate how to estimate network edge probabilitys nonparametrically. I use a variant of the procedure introduced by Zhang et al. (2015, _ArXiv_) as described in the course notes. Also included is an implementation of the general purpose matrix estimation method discussed in Chatterjee (2015, _Annals of Statistics_)"
   ]
  },
  {
   "cell_type": "code",
   "execution_count": null,
   "metadata": {
    "collapsed": true
   },
   "outputs": [],
   "source": [
    "# Direct Python to plot all figures inline (i.e., not in a separate window)\n",
    "%matplotlib inline\n",
    "\n",
    "# Load libraries\n",
    "import time\n",
    "\n",
    "# main scientific computing modules\n",
    "import numpy as np\n",
    "import scipy as sp\n",
    "from scipy.spatial.distance import cdist\n",
    "\n",
    "# additional modules, mostly for presentation\n",
    "import matplotlib.pyplot as plt\n",
    "import itertools as it\n",
    "\n",
    "# Division of two integers in Python 2.7 does not return a floating point result. The default is to round down \n",
    "# to the nearest integer. The following piece of code changes the default.\n",
    "from __future__ import division"
   ]
  },
  {
   "cell_type": "code",
   "execution_count": 2,
   "metadata": {
    "collapsed": true
   },
   "outputs": [],
   "source": [
    "# Directory where graphics files will be saved (and where example data are stored)\n",
    "data =     '/Users/bgraham/Dropbox/Teaching/Short_Courses/St_Gallen/Data/'\n",
    "graphics = '/Users/bgraham/Dropbox/Teaching/Short_Courses/SMU_CUHK/Graphics/'"
   ]
  },
  {
   "cell_type": "markdown",
   "metadata": {},
   "source": [
    "I begin by defining a nearest neighbor smoothing function as described in the lecture notes."
   ]
  },
  {
   "cell_type": "code",
   "execution_count": 3,
   "metadata": {
    "collapsed": false
   },
   "outputs": [],
   "source": [
    "def NNEdgeSmooth(D, K=None):\n",
    "    \"\"\"\n",
    "    \n",
    "    AUTHOR: Bryan S. Graham (https://github.com/bryangraham)\n",
    "    NOTES: Code adapted from script by Yun-Jhong Wu\n",
    "           (https://github.com/yunjhongwu/matrix-routines)\n",
    "    \n",
    "    Python implementation of a variant of algorithm proposed by\n",
    "    Zhang, Y., Levina, E. and Zhu, J. (2016) Estimating neighborhood edge \n",
    "    probabilities by neighborhood smoothing. arXiv: 1509.08588. \n",
    "    \n",
    "    The implemention uses nearest neighbors defined in terms of a Euclidean\n",
    "    distance metric and not the Chebyshev norm used in the paper. \n",
    "    \n",
    "    INPUTS:\n",
    "    -------\n",
    "    D   :   Symmetric adjacency matrix\n",
    "    K   :   Number of nearest neighbors to include\n",
    "    \n",
    "    OUTPUTS:\n",
    "    --------\n",
    "    P   :   Estimate of edge probabilities\n",
    "    \n",
    "    Output: Estimated probaility matrix\n",
    "    \"\"\"\n",
    "    \n",
    "    # Number of agents\n",
    "    N = D.shape[0]\n",
    "    \n",
    "    # If Nearest neighbors not specified using Zhange et al. (2015)\n",
    "    # proposed rule-of-thumb\n",
    "    if K is None:\n",
    "        K = 0.1*np.sqrt(N*np.log(N))\n",
    "    \n",
    "    D2 = np.dot(D, D.T)                   # Matrix square of the adjacency matrix\n",
    "    d_bar = cdist(D2, D2, 'euclidean')    # Euclidean distance across rows/columns\n",
    "    \n",
    "    # Correct distance estimates to reflect that ith and jth elements of each\n",
    "    # vector should be removed prior to computing distance between ith and jth rows\n",
    "    # NOTE: This correction is generally not important when N is large\n",
    "    for (i,j) in it.combinations(xrange(0,N), 2):\n",
    "        d_bar[i,j] = ((d_bar[i,j]**2 - (D2[i,i] - D2[i,j])**2 - (D2[j,i] - D2[j,j])**2)**(1/2))/(N-2) \n",
    "        d_bar[j,i] = d_bar[i,j] \n",
    "    \n",
    "    # Find K nearest neighbors\n",
    "    # Boolean matrix with (i,j) equal to True if agent i is among the K\n",
    "    # nearest neighbors to agent j (i.e., percentiles taken across columns)\n",
    "    K = d_bar < np.percentile(d_bar, (K/N)*100, 0, interpolation='lower')\n",
    "    \n",
    "    # Compute estimate of edge probabilities\n",
    "    # Each element gives average of D_il when l indices agent j's nearest neighbors\n",
    "    P = np.dot(D, (K * (1 / (np.sum(K, 0) + 1e-10))))\n",
    "\n",
    "    return (P + P.T) * 0.5  # Return average of two means as in Zhang et al. (2015)"
   ]
  },
  {
   "cell_type": "markdown",
   "metadata": {},
   "source": [
    "I also define a function implementing the Universal Singular Value Thresholding (USVT) method introduced in Chatterjee (2015, _Annals of Statistics_)."
   ]
  },
  {
   "cell_type": "code",
   "execution_count": 4,
   "metadata": {
    "collapsed": true
   },
   "outputs": [],
   "source": [
    "def USVT(D):\n",
    "    \n",
    "    \"\"\"\n",
    "    AUTHOR: Bryan S. Graham (https://github.com/bryangraham)\n",
    "   \n",
    "    Python implementation of a variant of algorithm proposed by\n",
    "    Chatterjee (2015, Annals of Statistics) \"Matrix estimation by \n",
    "    universal singular value thresholding.\"\n",
    "    \n",
    "    INPUTS:\n",
    "    -------\n",
    "    D   :   Binary matrix (M x N)\n",
    "   \n",
    "    OUTPUTS:\n",
    "    -------\n",
    "    P   :   Estimate of E[P] \n",
    "    \"\"\"\n",
    "    \n",
    "    N = D.shape[1]  # Number of columns in the matrix \n",
    "    X = 2*(D - 1/2) # Center elements of binary matrix to line between -1 and 1\n",
    "    U, s, V = np.linalg.svd(X, full_matrices=True) # Get SVD\n",
    "    USVT = (s >= (2+0.01)*(N**0.5)) # Set of larger singula value to retain\n",
    "    \n",
    "    # Construct matrix approximation and rescale to line on unit interval\n",
    "    W = np.dot(np.dot(U,np.diag(USVT*s)),V) \n",
    "    W = W*(W>=-1)*(W<=1) - 1*(W<-1) + 1*(W>1)    \n",
    "    \n",
    "    return 0.5 + 0.5*W"
   ]
  },
  {
   "cell_type": "markdown",
   "metadata": {},
   "source": [
    "Next I take a random draw of a network with $N = 2,000$ agents using the graphon described and plotted in the lecture notes."
   ]
  },
  {
   "cell_type": "code",
   "execution_count": null,
   "metadata": {
    "collapsed": false
   },
   "outputs": [],
   "source": [
    "# Set random number seed\n",
    "randst = np.random.RandomState(19)\n",
    "\n",
    "# Set network size\n",
    "N = 2000\n",
    "n = N*(N - 1) // 2\n",
    "\n",
    "# Get multi-indices for lower triangle of N x N matrix\n",
    "ij_LowTri = np.tril_indices(N, -1)\n",
    "\n",
    "# Draw agent-level heterogeneity/location parameters\n",
    "U = randst.uniform(0, 1, (N,1))\n",
    "\n",
    "# Calibrate model to ensure link probabilities lie between zero and one\n",
    "alpha0 = 0;\n",
    "alpha1 = 0.5*np.log(0.75/0.25)\n",
    "alpha2 = np.log(0.25/0.75) - alpha1\n",
    "\n",
    "# Graphon discussed in the lecture notes\n",
    "p  = 1/(1+np.exp(-alpha0 - alpha1*(U + U.T) - alpha2*np.abs(U - U.T)))\n",
    "\n",
    "# Graphon #3 in Zhang, Levina and Zhu (2015)\n",
    "#p  = 1 - (1 + np.exp(15*np.abs(0.8*(U - U.T))**(4/5) - 0.1))**-1\n",
    "\n",
    "# Graphon #4 in Zhang, Levina and Zhu (2015)\n",
    "#p  = (U**2 + (U.T)**2)/(3*np.cos(1/(U**2 + (U.T)**2))) + 0.15\n",
    "\n",
    "# Take random draw of an adjacency matrix for given graphon\n",
    "D            = np.zeros((N,N), dtype='float64')   # N x N adjacency matrix\n",
    "D[ij_LowTri] = np.ravel(randst.uniform(0, 1, (n,)) <= p[ij_LowTri])\n",
    "D            = D + D.T"
   ]
  },
  {
   "cell_type": "markdown",
   "metadata": {},
   "source": [
    "Construct a heatmap/contour plot of simulated graphon."
   ]
  },
  {
   "cell_type": "code",
   "execution_count": null,
   "metadata": {
    "collapsed": false
   },
   "outputs": [],
   "source": [
    "# Plot test graphon function\n",
    "\n",
    "# Create mesh grid of x, y, z values\n",
    "U_grid  = np.linspace(0, 1, 100)\n",
    "u, v    = np.meshgrid(U_grid, U_grid)\n",
    "h       = 1/(1+np.exp(-alpha0 - alpha1*(u + v) - alpha2*np.abs(u - v))) #Homophily graphon\n",
    "\n",
    "# Create figure object\n",
    "graphon_ex_fig = plt.figure(figsize=(5,4))\n",
    "ax = graphon_ex_fig.add_subplot(111)\n",
    "\n",
    "# Create contour \"heat map\" with 20 levels\n",
    "cs1 = ax.contourf(u, v, h, levels=np.linspace(0, 1, 21), \\\n",
    "           origin='upper', extent=(0,1,0,1), cmap=\"YlGnBu\")\n",
    "\n",
    "# Add contour lines to plot\n",
    "cs2 = plt.contour(cs1, \\\n",
    "                  colors='green', linewidths = 1)\n",
    "# Add color bar\n",
    "cbar = graphon_ex_fig.colorbar(cs1, format=\"%.2f\").add_lines(cs2)\n",
    "\n",
    "# Label and configure axes to put graphon plot in \"matrix form\"\n",
    "# (i.e., place origin in upper-left-hand corner)\n",
    "ax.xaxis.tick_top() # Put x-axis on top of figure\n",
    "ax.set_xlabel(r'$u_{j}$', fontsize=12)\n",
    "ax.xaxis.set_label_position('top') \n",
    "\n",
    "ax.invert_yaxis()  # Invert y-axis \n",
    "ax.set_ylabel(r'$u_{i}$', fontsize=12)\n",
    "\n",
    "# Add title\n",
    "plt.title(\"Graphon contour plot\", y=1.15, fontsize=12)\n",
    "\n",
    "# Add graphon equation as note at the bottom of the plot\n",
    "from matplotlib import rc\n",
    "rc('text', usetex=True)\n",
    "plt.text(0, 1.1, r'\\underline{Note}: $h\\left(u_{i},u_{j}\\right)=\\frac{\\exp\\left(\\alpha_{0}+\\alpha_{1}\\left(u_{i}+u_{j}\\right) \\\n",
    "                   +\\alpha_{2}\\left|u_{i}-u_{j}\\right|\\right)}{1+\\exp\\left(\\alpha_{0}+\\alpha_{1}\\left(u_{i}+u_{j}\\right) \\\n",
    "                   +\\alpha_{2}\\left|u_{i}-u_{j}\\right|\\right)}$', fontsize=12)\n",
    "\n",
    "\n",
    "# Save the figure\n",
    "plt.savefig(graphics+'graphon_ex_fig.png', bbox_inches='tight', dpi=500)"
   ]
  },
  {
   "cell_type": "markdown",
   "metadata": {},
   "source": [
    "Next estimate the edge probabilities nonparametrically using 200 nearest neighbors. "
   ]
  },
  {
   "cell_type": "code",
   "execution_count": null,
   "metadata": {
    "collapsed": true
   },
   "outputs": [],
   "source": [
    "P_ns = NNEdgeSmooth(D,200)"
   ]
  },
  {
   "cell_type": "markdown",
   "metadata": {},
   "source": [
    "Plot a random selection of the estimated probabilities against their actual counterparts."
   ]
  },
  {
   "cell_type": "code",
   "execution_count": null,
   "metadata": {
    "collapsed": false
   },
   "outputs": [],
   "source": [
    "# Plot fitted probabilities against true ones\n",
    "\n",
    "# Create figure object\n",
    "Phat_vs_P0_fig = plt.figure(figsize=(4,4))\n",
    "ax = Phat_vs_P0_fig.add_subplot(111)\n",
    "\n",
    "# Plot estimated probalities for a random choice of 100 agents\n",
    "random_indices = np.random.choice(n, 100)\n",
    "plt.plot(P_ns[ij_LowTri][random_indices], p[ij_LowTri][random_indices], 'o')\n",
    "plt.plot([0.25,0.75],[0.25,0.75],'-')\n",
    "\n",
    "# Label and configure axes\n",
    "# (i.e., place origin in upper-left-hand corner)\n",
    "ax.set_xlabel(r'$\\hat{P}_{ij}$', fontsize=12)\n",
    "ax.set_ylabel(r'$P_{ij}$', fontsize=12)\n",
    "\n",
    "# Add title\n",
    "plt.title(\"Nearest Neighbor vs. True Probabilities\", y=1, fontsize=12)\n",
    "\n",
    "# Save the figure\n",
    "plt.savefig(graphics+'graphon_goodness_of_fit_NN_fig.png', bbox_inches='tight', dpi=500)"
   ]
  },
  {
   "cell_type": "markdown",
   "metadata": {},
   "source": [
    "Estimate edge probabilities using Chatterjee's (2015) general purpose thresholding estimator."
   ]
  },
  {
   "cell_type": "code",
   "execution_count": null,
   "metadata": {
    "collapsed": true
   },
   "outputs": [],
   "source": [
    "P_usvt = USVT(D)"
   ]
  },
  {
   "cell_type": "markdown",
   "metadata": {},
   "source": [
    "Goodness of fit plot."
   ]
  },
  {
   "cell_type": "code",
   "execution_count": null,
   "metadata": {
    "collapsed": false
   },
   "outputs": [],
   "source": [
    "# Plot fitted probabilities against true ones\n",
    "\n",
    "# Create figure object\n",
    "Phat_vs_P0_fig = plt.figure(figsize=(4,4))\n",
    "ax = Phat_vs_P0_fig.add_subplot(111)\n",
    "\n",
    "# Plot estimated probalities for a random choice of 100 agents\n",
    "random_indices = np.random.choice(n, 100)\n",
    "plt.plot(P_usvt[ij_LowTri][random_indices], p[ij_LowTri][random_indices], 'o')\n",
    "plt.plot([0.25,0.75],[0.25,0.75],'-')\n",
    "\n",
    "# Label and configure axes\n",
    "# (i.e., place origin in upper-left-hand corner)\n",
    "ax.set_xlabel(r'$\\hat{P}_{ij}$', fontsize=12)\n",
    "ax.set_ylabel(r'$P_{ij}$', fontsize=12)\n",
    "\n",
    "# Add title\n",
    "plt.title(\"USVT vs. True Probabilities\", y=1, fontsize=12)\n",
    "\n",
    "# Save the figure\n",
    "plt.savefig(graphics+'graphon_goodness_of_fit_USVT_fig.png', bbox_inches='tight', dpi=500)"
   ]
  },
  {
   "cell_type": "markdown",
   "metadata": {},
   "source": [
    "Construct pixel plot of simulated adjacency matrix and (i) our smoothed and (ii) USVT estimate of the underlying graphon."
   ]
  },
  {
   "cell_type": "code",
   "execution_count": null,
   "metadata": {
    "collapsed": false
   },
   "outputs": [],
   "source": [
    "# Create n = N choose 2 vectors with the dyad types as values\n",
    "u = np.zeros((N,N))\n",
    "v = np.zeros((N,N))\n",
    "\n",
    "for (i,j) in it.combinations(xrange(0,N), 2):\n",
    "    u[i,j] = U[i]\n",
    "    v[i,j] = U[j]\n",
    "    \n",
    "u = u + u.T\n",
    "v = v + v.T\n",
    "\n",
    "#--------------------------------------------#\n",
    "#- Create figure object with three subplots -#\n",
    "#--------------------------------------------#\n",
    "\n",
    "pixel_ex_fig = plt.figure(figsize=(9,3))\n",
    "\n",
    "# Plot 1: Plot pixel picture of adjacency matrix\n",
    "ax = pixel_ex_fig.add_subplot(131)\n",
    "\n",
    "# Scatter of adjacency matrix; edgecolors of pixels same as faces\n",
    "plt.scatter(v[ij_LowTri],u[ij_LowTri],c=D[ij_LowTri], marker='s', cmap=\"YlGnBu\", \\\n",
    "            edgecolors='face')\n",
    "\n",
    "# Set axis limits \n",
    "plt.ylim([0,1])\n",
    "plt.xlim([0,1])\n",
    "\n",
    "# Label and configure axes to put pixel plot in \"matrix form\"\n",
    "ax.xaxis.tick_top() # Put x-axis on top of figure\n",
    "ax.set_xlabel(r'$u_{j}$', fontsize=12)\n",
    "ax.xaxis.set_label_position('top') \n",
    "\n",
    "ax.invert_yaxis()  # Invert y-axis \n",
    "ax.set_ylabel(r'$u_{i}$', fontsize=12)\n",
    "\n",
    "# Add title\n",
    "plt.title(r\"Pixel picture of $\\mathbf{D}$\", y=1.15, fontsize=12)\n",
    "\n",
    "# Plot 2: Plot pixel picture of Nearest Neighbor Smooth\n",
    "ax = pixel_ex_fig.add_subplot(132)\n",
    "\n",
    "# Scatter\n",
    "plt.scatter(v[ij_LowTri],u[ij_LowTri],c=P_ns[ij_LowTri], marker='s', cmap=\"YlGnBu\", \\\n",
    "            edgecolors='face')\n",
    "\n",
    "# Set axis limits \n",
    "plt.ylim([0,1])\n",
    "plt.xlim([0,1])\n",
    "\n",
    "# Label and configure axes to put pixel plot in \"matrix form\"\n",
    "ax.xaxis.tick_top() # Put x-axis on top of figure\n",
    "ax.set_xlabel(r'$u_{j}$', fontsize=12)\n",
    "ax.xaxis.set_label_position('top') \n",
    "\n",
    "ax.invert_yaxis()  # Invert y-axis \n",
    "ax.set_ylabel(r'$u_{i}$', fontsize=12)\n",
    "\n",
    "# Add title\n",
    "plt.title(r\"Nearest Neighbor Smooth, $\\mathbf{\\hat{P}}$\", y=1.15, fontsize=12)\n",
    "\n",
    "# Plot 3: Plot pixel picture of USVT Smooth\n",
    "ax = pixel_ex_fig.add_subplot(133)\n",
    "\n",
    "# Scatter\n",
    "plt.scatter(v[ij_LowTri],u[ij_LowTri],c=P_usvt[ij_LowTri], marker='s', cmap=\"YlGnBu\", \\\n",
    "            edgecolors='face')\n",
    "\n",
    "# Set axis limits \n",
    "plt.ylim([0,1])\n",
    "plt.xlim([0,1])\n",
    "\n",
    "# Label and configure axes to put pixel plot in \"matrix form\"\n",
    "ax.xaxis.tick_top() # Put x-axis on top of figure\n",
    "ax.set_xlabel(r'$u_{j}$', fontsize=12)\n",
    "ax.xaxis.set_label_position('top') \n",
    "\n",
    "ax.invert_yaxis()  # Invert y-axis \n",
    "ax.set_ylabel(r'$u_{i}$', fontsize=12)\n",
    "\n",
    "# Add title\n",
    "plt.title(r\"USVT Smooth, $\\mathbf{\\hat{P}}$\", y=1.15, fontsize=12)\n",
    "\n",
    "# Save the figure\n",
    "plt.savefig(graphics+'pixel_smooth_ex_fig.png', bbox_inches='tight', dpi=500)"
   ]
  },
  {
   "cell_type": "markdown",
   "metadata": {},
   "source": [
    "## Application to Nyakatoke Network\n",
    "This next snippet of code applies the nearest neighbor edge probability estimator to the Nyakatoke network. I use 15 nearest neighbors for estimation. This corresponds to a little more than 10 percent of the network. The smoothed adjacency matrix is mildly suggestive of a community structure."
   ]
  },
  {
   "cell_type": "code",
   "execution_count": 9,
   "metadata": {
    "collapsed": false,
    "scrolled": false
   },
   "outputs": [
    {
     "data": {
      "image/png": "[encoded data removed]",
      "text/plain": [
       "<matplotlib.figure.Figure at 0x10e016910>"
      ]
     },
     "metadata": {},
     "output_type": "display_data"
    }
   ],
   "source": [
    "# Read in Nyakatoke adjacency matrix\n",
    "from scipy import io\n",
    "D = io.mmread(data+\"Created/Nyakatoke_Adjacency.mtx\")\n",
    "\n",
    "# Get number of households in Nyakatoke network\n",
    "N = np.shape(D)[0]\n",
    "\n",
    "#-------------------------------------------------#\n",
    "#- Compute nearest neighbor smooth for Nyakatoke -#\n",
    "#-------------------------------------------------#\n",
    "P_Nyakatoke = NNEdgeSmooth(np.asarray(D.todense()), 15)\n",
    "\n",
    "# Calculated estimated (expected) degree for each agent\n",
    "E_degrees = np.sum(P_Nyakatoke, axis = 0)\n",
    "\n",
    "#----------------------------------------------#\n",
    "#- Plot smoothed adjacency matrix             -#\n",
    "#----------------------------------------------#\n",
    "\n",
    "U = np.tile(E_degrees, (N, 1))\n",
    "\n",
    "# Form interpolation grid upon which to plot estimated \"graphon\"\n",
    "E_degrees_grid   = np.linspace(1, np.ceil(max(E_degrees)))\n",
    "P_Nyakatoke_grid = plt.mlab.griddata(U.T.reshape(-1), U.reshape(-1), P_Nyakatoke.reshape(-1), \\\n",
    "                                     E_degrees_grid, E_degrees_grid,interp='linear')\n",
    "\n",
    "\n",
    "nyakatoke_smooth_adjacency_fig = plt.figure(figsize=(4,4))\n",
    "ax = nyakatoke_smooth_adjacency_fig.add_subplot(111)\n",
    "graphon = plt.contourf(E_degrees_grid, E_degrees_grid, P_Nyakatoke_grid, \\\n",
    "                       levels = np.arange(0,1,0.05), cmap=\"YlGnBu\")\n",
    "\n",
    "cb = plt.colorbar(graphon)\n",
    "cb.set_label(r\"$\\hat{p}_{ij}$\", fontsize=12)\n",
    "#graphon_cl = plt.contour(graphon, colors='k')\n",
    "\n",
    "# Set axis limits & tick marks\n",
    "plt.ylim([1,np.ceil(max(E_degrees))])\n",
    "plt.xlim([1,np.ceil(max(E_degrees))])\n",
    "\n",
    "plt.yticks([5, 10, 15, 20])\n",
    "plt.xticks([5, 10, 15, 20])\n",
    "\n",
    "# Label and configure axes to put pixel plot in \"matrix form\"\n",
    "ax.xaxis.tick_top() # Put x-axis on top of figure\n",
    "ax.set_xlabel(r'$\\hat{\\mathbb{E}}[D_{j+}]$', fontsize=12)\n",
    "ax.xaxis.set_label_position('top') \n",
    "\n",
    "ax.invert_yaxis()  # Invert y-axis \n",
    "ax.set_ylabel(r'$\\hat{\\mathbb{E}}[D_{i+}]$', fontsize=12)\n",
    "\n",
    "# Add title\n",
    "plt.title(r\"Nyakatoke: Nearest Neighbor Smooth\", y=1.15, fontsize=12)\n",
    "\n",
    "# Save the figure\n",
    "plt.savefig(graphics+'nyakatoke_nnsmooth_fig.png', bbox_inches='tight', dpi=500)"
   ]
  },
  {
   "cell_type": "code",
   "execution_count": null,
   "metadata": {
    "collapsed": false
   },
   "outputs": [],
   "source": [
    "# This imports an attractive notebook style from Github\n",
    "from IPython.core.display import HTML\n",
    "import urllib2\n",
    "HTML(urllib2.urlopen('http://bit.ly/1Bf5Hft').read())"
   ]
  }
 ],
 "metadata": {
  "anaconda-cloud": {},
  "kernelspec": {
   "display_name": "Python 2",
   "language": "python",
   "name": "python2"
  },
  "language_info": {
   "codemirror_mode": {
    "name": "ipython",
    "version": 2
   },
   "file_extension": ".py",
   "mimetype": "text/x-python",
   "name": "python",
   "nbconvert_exporter": "python",
   "pygments_lexer": "ipython2",
   "version": "2.7.13"
  }
 },
 "nbformat": 4,
 "nbformat_minor": 0
}
